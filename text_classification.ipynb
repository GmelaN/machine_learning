{
 "cells": [
  {
   "cell_type": "markdown",
   "metadata": {},
   "source": [
    "# IMDB 평점 데이터 분류하기\n",
    "- 2023.07.19\n",
    "\n",
    "- pytorch에서 데이터를 로드할 떄 보통 전처리 -> dataset -> DataLoader에 적재 과정을 거친다고 함\n",
    "- 텍스트 분류에서 필요한 전처리는 토큰화 등이 있음\n",
    "- IMDB 데이터는 (label, data)로 구성되며 label은 별점이 7점 이상인 경우 1, 4점 이하인 경우 2임"
   ]
  },
  {
   "cell_type": "markdown",
   "metadata": {},
   "source": [
    "### 라이브러리 임포트, 전역 변수 설정"
   ]
  },
  {
   "cell_type": "code",
   "execution_count": 11,
   "metadata": {},
   "outputs": [
    {
     "data": {
      "text/plain": [
       "<torch._C.Generator at 0x2a0feb8f190>"
      ]
     },
     "execution_count": 11,
     "metadata": {},
     "output_type": "execute_result"
    }
   ],
   "source": [
    "# 라이브러리 임포트\n",
    "import torch\n",
    "import torch.nn as nn\n",
    "from torchtext.datasets import IMDB\n",
    "from torchtext.data.utils import get_tokenizer\n",
    "from torchtext.vocab import build_vocab_from_iterator\n",
    "from torchtext.data.functional import to_map_style_dataset\n",
    "\n",
    "from torch.utils.data import DataLoader, random_split\n",
    "\n",
    "import random\n",
    "\n",
    "from typing import Iterable, Tuple, Dict\n",
    "\n",
    "# 디바이스 설정\n",
    "device = \"cuda\" if torch.cuda.is_available() else \"cpu\"\n",
    "\n",
    "# 하이퍼파라미터 설정\n",
    "BATCH_SIZE = 64\n",
    "lr = 1e-3\n",
    "EPOCHS = 10\n",
    "\n",
    "# 랜덤 시드 설정\n",
    "SEED = 5\n",
    "random.seed(SEED)\n",
    "torch.manual_seed(SEED)"
   ]
  },
  {
   "cell_type": "markdown",
   "metadata": {},
   "source": [
    "### 데이터 로드\n",
    "- IMDB 데이터를 generator로 불러오기 때문에, 여러 번 불러와도 큰 성능 저하가 발생하지 않음"
   ]
  },
  {
   "cell_type": "code",
   "execution_count": 12,
   "metadata": {},
   "outputs": [],
   "source": [
    "def get_data() -> Iterable[Tuple[int, str]]:\n",
    "    \"\"\"\n",
    "    get IMDB dataset.\n",
    "\n",
    "    Args, Exceptions\n",
    "    ----------------\n",
    "    None\n",
    "\n",
    "\n",
    "    Returns\n",
    "    -------\n",
    "    dataset: Iterable\n",
    "    \"\"\"\n",
    "    train, test = IMDB(root=\"./data/imdb/\")\n",
    "    result = iter(train + test)\n",
    "\n",
    "    return result"
   ]
  },
  {
   "cell_type": "markdown",
   "metadata": {},
   "source": [
    "### 데이터 살펴보기\n",
    "- 평점이 7점 이상인 경우 2, 평점이 4점 이하인 경우 1로 레이블링 되어 있다고 함"
   ]
  },
  {
   "cell_type": "code",
   "execution_count": 5,
   "metadata": {},
   "outputs": [],
   "source": [
    "def view_head(dataset: Iterable[Tuple[int, str]], length: int=5) -> None:\n",
    "    \"\"\"\n",
    "    view head of dataset.\n",
    "\n",
    "    Args\n",
    "    ----\n",
    "    dataset: Iterable, contains Tuple[label, data]\n",
    "    length: int, default is 5, length of datas to view.\n",
    "\n",
    "    Exceptions\n",
    "    ----------\n",
    "    None\n",
    "\n",
    "    returns\n",
    "    -------\n",
    "    None\n",
    "    \"\"\"\n",
    "    len_data = length\n",
    "\n",
    "    for label, data in dataset:\n",
    "        print(f\"label: {label}\")\n",
    "        print(f\"data: {data}\")\n",
    "\n",
    "        len_data -= 1\n",
    "        if len_data <= 0:\n",
    "            break\n",
    "\n",
    "    return\n",
    "\n",
    "\n",
    "def label_value_counts(dataset: Iterable[Tuple[int, str]]) -> Dict[str, int]:\n",
    "    \"\"\"\n",
    "    view head of dataset.\n",
    "\n",
    "    Args\n",
    "    ----\n",
    "    dataset: Iterable, contains Tuple[label, data]\n",
    "\n",
    "    Exceptions\n",
    "    ----------\n",
    "    None\n",
    "\n",
    "    returns\n",
    "    -------\n",
    "    counts: Dict[label: count]\n",
    "    \"\"\"\n",
    "    counts = dict()\n",
    "\n",
    "    for label, _ in dataset:\n",
    "        if label not in counts.keys():\n",
    "            counts[label] = 1\n",
    "            continue\n",
    "\n",
    "        counts[label] += 1\n",
    "    \n",
    "    return counts\n"
   ]
  },
  {
   "cell_type": "code",
   "execution_count": 6,
   "metadata": {},
   "outputs": [
    {
     "name": "stdout",
     "output_type": "stream",
     "text": [
      "label: 1\n",
      "data: I rented I AM CURIOUS-YELLOW from my video store because of all the controversy that surrounded it when it was first released in 1967. I also heard that at first it was seized by U.S. customs if it ever tried to enter this country, therefore being a fan of films considered \"controversial\" I really had to see this for myself.<br /><br />The plot is centered around a young Swedish drama student named Lena who wants to learn everything she can about life. In particular she wants to focus her attentions to making some sort of documentary on what the average Swede thought about certain political issues such as the Vietnam War and race issues in the United States. In between asking politicians and ordinary denizens of Stockholm about their opinions on politics, she has sex with her drama teacher, classmates, and married men.<br /><br />What kills me about I AM CURIOUS-YELLOW is that 40 years ago, this was considered pornographic. Really, the sex and nudity scenes are few and far between, even then it's not shot like some cheaply made porno. While my countrymen mind find it shocking, in reality sex and nudity are a major staple in Swedish cinema. Even Ingmar Bergman, arguably their answer to good old boy John Ford, had sex scenes in his films.<br /><br />I do commend the filmmakers for the fact that any sex shown in the film is shown for artistic purposes rather than just to shock people and make money to be shown in pornographic theaters in America. I AM CURIOUS-YELLOW is a good film for anyone wanting to study the meat and potatoes (no pun intended) of Swedish cinema. But really, this film doesn't have much of a plot.\n",
      "label: 1\n",
      "data: \"I Am Curious: Yellow\" is a risible and pretentious steaming pile. It doesn't matter what one's political views are because this film can hardly be taken seriously on any level. As for the claim that frontal male nudity is an automatic NC-17, that isn't true. I've seen R-rated films with male nudity. Granted, they only offer some fleeting views, but where are the R-rated films with gaping vulvas and flapping labia? Nowhere, because they don't exist. The same goes for those crappy cable shows: schlongs swinging in the breeze but not a clitoris in sight. And those pretentious indie movies like The Brown Bunny, in which we're treated to the site of Vincent Gallo's throbbing johnson, but not a trace of pink visible on Chloe Sevigny. Before crying (or implying) \"double-standard\" in matters of nudity, the mentally obtuse should take into account one unavoidably obvious anatomical difference between men and women: there are no genitals on display when actresses appears nude, and the same cannot be said for a man. In fact, you generally won't see female genitals in an American film in anything short of porn or explicit erotica. This alleged double-standard is less a double standard than an admittedly depressing ability to come to terms culturally with the insides of women's bodies.\n",
      "label: 1\n",
      "data: If only to avoid making this type of film in the future. This film is interesting as an experiment but tells no cogent story.<br /><br />One might feel virtuous for sitting thru it because it touches on so many IMPORTANT issues but it does so without any discernable motive. The viewer comes away with no new perspectives (unless one comes up with one while one's mind wanders, as it will invariably do during this pointless film).<br /><br />One might better spend one's time staring out a window at a tree growing.<br /><br />\n",
      "label: 1\n",
      "data: This film was probably inspired by Godard's Masculin, féminin and I urge you to see that film instead.<br /><br />The film has two strong elements and those are, (1) the realistic acting (2) the impressive, undeservedly good, photo. Apart from that, what strikes me most is the endless stream of silliness. Lena Nyman has to be most annoying actress in the world. She acts so stupid and with all the nudity in this film,...it's unattractive. Comparing to Godard's film, intellectuality has been replaced with stupidity. Without going too far on this subject, I would say that follows from the difference in ideals between the French and the Swedish society.<br /><br />A movie of its time, and place. 2/10.\n",
      "label: 1\n",
      "data: Oh, brother...after hearing about this ridiculous film for umpteen years all I can think of is that old Peggy Lee song..<br /><br />\"Is that all there is??\" ...I was just an early teen when this smoked fish hit the U.S. I was too young to get in the theater (although I did manage to sneak into \"Goodbye Columbus\"). Then a screening at a local film museum beckoned - Finally I could see this film, except now I was as old as my parents were when they schlepped to see it!!<br /><br />The ONLY reason this film was not condemned to the anonymous sands of time was because of the obscenity case sparked by its U.S. release. MILLIONS of people flocked to this stinker, thinking they were going to see a sex film...Instead, they got lots of closeups of gnarly, repulsive Swedes, on-street interviews in bland shopping malls, asinie political pretension...and feeble who-cares simulated sex scenes with saggy, pale actors.<br /><br />Cultural icon, holy grail, historic artifact..whatever this thing was, shred it, burn it, then stuff the ashes in a lead box!<br /><br />Elite esthetes still scrape to find value in its boring pseudo revolutionary political spewings..But if it weren't for the censorship scandal, it would have been ignored, then forgotten.<br /><br />Instead, the \"I Am Blank, Blank\" rhythymed title was repeated endlessly for years as a titilation for porno films (I am Curious, Lavender - for gay films, I Am Curious, Black - for blaxploitation films, etc..) and every ten years or so the thing rises from the dead, to be viewed by a new generation of suckers who want to see that \"naughty sex film\" that \"revolutionized the film industry\"...<br /><br />Yeesh, avoid like the plague..Or if you MUST see it - rent the video and fast forward to the \"dirty\" parts, just to get it over with.<br /><br />\n"
     ]
    }
   ],
   "source": [
    "dataset = get_data()\n",
    "view_head(dataset)"
   ]
  },
  {
   "cell_type": "code",
   "execution_count": 7,
   "metadata": {},
   "outputs": [
    {
     "data": {
      "text/plain": [
       "{1: 25000, 2: 25000}"
      ]
     },
     "execution_count": 7,
     "metadata": {},
     "output_type": "execute_result"
    }
   ],
   "source": [
    "dataset = get_data()\n",
    "label_value_counts(dataset)"
   ]
  },
  {
   "cell_type": "markdown",
   "metadata": {},
   "source": [
    "### 데이터 전처리"
   ]
  },
  {
   "cell_type": "markdown",
   "metadata": {},
   "source": [
    "#### raw dataset으로부터 어휘집: vocab 만들기"
   ]
  },
  {
   "cell_type": "code",
   "execution_count": 13,
   "metadata": {},
   "outputs": [],
   "source": [
    "from typing import Generator\n",
    "\n",
    "dataset = get_data()\n",
    "\n",
    "# 문자열 토큰화\n",
    "tokenizer = get_tokenizer(\"basic_english\")\n",
    "\n",
    "# generator 데이터의 각 요소에 접근하여 token을 생성하는 generator\n",
    "def yield_tokens(data_iter: Iterable) -> Generator:\n",
    "    '''\n",
    "    get tokenized list from dataset.\n",
    "    Args\n",
    "    ----\n",
    "    data_iter: Iterable[label, text], target dataset.\n",
    "\n",
    "    Exceptions\n",
    "    ----------\n",
    "    None\n",
    "\n",
    "    Returns\n",
    "    -------\n",
    "    tokenized text Generator\n",
    "    '''\n",
    "    for _, text in data_iter:\n",
    "        yield tokenizer(text)\n",
    "\n",
    "# 토큰화된 데이터로부터 vocab 생성\n",
    "vocab = build_vocab_from_iterator(yield_tokens(dataset), specials=[\"<unk>\"])\n",
    "vocab.set_default_index(vocab[\"<unk>\"])"
   ]
  },
  {
   "cell_type": "markdown",
   "metadata": {},
   "source": [
    "#### vocab은 토큰화된 목록을 정수로 변환함"
   ]
  },
  {
   "cell_type": "code",
   "execution_count": 14,
   "metadata": {},
   "outputs": [
    {
     "data": {
      "text/plain": [
       "[135, 9, 40, 471]"
      ]
     },
     "execution_count": 14,
     "metadata": {},
     "output_type": "execute_result"
    }
   ],
   "source": [
    "vocab(tokenizer(\"here is an example\"))"
   ]
  },
  {
   "cell_type": "markdown",
   "metadata": {},
   "source": [
    "#### 텍스트 처리 파이프라인 준비"
   ]
  },
  {
   "cell_type": "code",
   "execution_count": 24,
   "metadata": {},
   "outputs": [],
   "source": [
    "# 텍스트의 경우 token화 후 vocab을 돌려 전처리\n",
    "text_pipeline = lambda x: vocab(tokenizer(x))\n",
    "\n",
    "# 라벨의 경우 특별한 처리는 없음 - 1과 2를 0과 1로 변환\n",
    "label_pipeline = lambda x: int(x) - 1"
   ]
  },
  {
   "cell_type": "markdown",
   "metadata": {},
   "source": [
    "dataLoader의 collate_fn은 batch로 데이터를 불러올 때 호출되는 메서드임"
   ]
  },
  {
   "cell_type": "code",
   "execution_count": 25,
   "metadata": {},
   "outputs": [],
   "source": [
    "def collate_batch(batch):\n",
    "    label_list, text_list, offset_list = [], [], [0]\n",
    "\n",
    "    for (_label, _text) in batch:\n",
    "        # 라벨 데이터는 그냥 담고\n",
    "        label_list.append(label_pipeline(_label))\n",
    "\n",
    "        # 전처리된 텍스트 데이터는 tensor로 변환\n",
    "        processed_text = torch.tensor(text_pipeline(_text), dtype=torch.int64)\n",
    "\n",
    "        text_list.append(processed_text)\n",
    "\n",
    "        # offset -> 해당 개별 텍스트의 길이를 담음\n",
    "        offset_list.append(processed_text.size(0))\n",
    "\n",
    "    label_list = torch.tensor(label_list, dtype=torch.int64)\n",
    "    text_list = torch.cat(text_list)\n",
    "    offsets = torch.tensor(offset_list[:-1]).cumsum(dim=0)\n",
    "\n",
    "    return label_list.to(device), text_list.to(device), offsets.to(device)"
   ]
  },
  {
   "cell_type": "code",
   "execution_count": 26,
   "metadata": {},
   "outputs": [],
   "source": [
    "# IMDB에서 제공하는 train, test의 크기가 모두 25000이고 레이블이 있는 데이터임\n",
    "# 따라서 그냥 두 데이터를 합치고 난 후 따로 분리하는 방법을 택함\n",
    "\n",
    "dataset = to_map_style_dataset(get_data())\n",
    "\n",
    "num_train = int(len(dataset) * 0.7)\n",
    "split_train, split_others = random_split(dataset, [num_train, len(dataset) - num_train])\n",
    "# others: 3 / 10\n",
    "\n",
    "# whole: 3/10 -> 2/10 for whole is 0.666666...\n",
    "num_test = int(len(split_others) * 0.6)\n",
    "split_test, split_valid = random_split(split_others, [num_test, len(split_others) - num_test])\n",
    "\n",
    "train_iter, test_iter, vaild_iter = map(iter, [split_train, split_test, split_valid])\n",
    "\n",
    "train_dataloader = DataLoader(split_train, batch_size=BATCH_SIZE, shuffle=True, collate_fn=collate_batch)\n",
    "test_dataloader = DataLoader(split_test, batch_size=BATCH_SIZE, shuffle=False, collate_fn=collate_batch)\n",
    "valid_dataloader = DataLoader(split_valid, batch_size=BATCH_SIZE, shuffle=False, collate_fn=collate_batch)"
   ]
  },
  {
   "cell_type": "markdown",
   "metadata": {},
   "source": [
    "### RNN 모델 구현\n",
    "- Word Embedding: 단어를 밀집 벡터의 형태로 표현하는 방법\n",
    "- nn.Embedding은 단어를 임의의 값을 가지는 밀집 벡터로 변환한 뒤 신경망의 가중치를 학습하는 것과 받은 방식으로\n",
    "단어 벡터를 학습하는 방법을 사용\n",
    "- nn.EmbeddingBag는 Embedding 후 torch.mean(dim=0)과 동일하며, Embedding의 평균을 즉시 계산하여 성능 및 메모리 측면에서의 장점을 가짐"
   ]
  },
  {
   "cell_type": "code",
   "execution_count": 28,
   "metadata": {},
   "outputs": [],
   "source": [
    "class RNNModel(nn.Module):\n",
    "    def __init__(self, vocab_size, hidden_size, num_class):\n",
    "        super(RNNModel, self).__init__()\n",
    "\n",
    "        self.hidden_size = hidden_size\n",
    "        self.rnn = nn.RNN(vocab_size, hidden_size)\n",
    "        self.fc = nn.Linear(hidden_size, num_class)\n",
    "\n",
    "        self.embedding = nn.EmbeddingBag(vocab_size, hidden_size, sparse=False)\n",
    "        self.init_weights()\n",
    "\n",
    "\n",
    "    def init_weights(self):\n",
    "        initrange = 0.5\n",
    "\n",
    "        self.embedding.weight.data.uniform_(-initrange, initrange)\n",
    "        self.fc.weight.data.uniform_(-initrange, initrange)\n",
    "        self.fc.bias.data.zero_()\n",
    "\n",
    "        return\n",
    "\n",
    "\n",
    "    def forward(self, text, offsets):\n",
    "        embedded = self.embedding(text, offsets)\n",
    "        return self.fc(embedded)\n"
   ]
  },
  {
   "cell_type": "code",
   "execution_count": 32,
   "metadata": {},
   "outputs": [],
   "source": [
    "model = RNNModel(\n",
    "    vocab_size=len(vocab),\n",
    "    hidden_size=128,\n",
    "    num_class=2,\n",
    ").to(device)"
   ]
  },
  {
   "cell_type": "markdown",
   "metadata": {},
   "source": [
    "### 모델 훈련 메서드"
   ]
  },
  {
   "cell_type": "code",
   "execution_count": 33,
   "metadata": {},
   "outputs": [],
   "source": [
    "import time\n",
    "\n",
    "def train(dataloader):\n",
    "    model.train()\n",
    "    total_acc, total_count = 0, 0\n",
    "    log_interval = 500\n",
    "    start_time = time.time()\n",
    "    for idx, (label, text, offsets) in enumerate(dataloader):\n",
    "        optimizer.zero_grad()\n",
    "        predicted_label = model(text, offsets)\n",
    "        loss = criterion(predicted_label, label)\n",
    "        loss.backward()\n",
    "        torch.nn.utils.clip_grad_norm_(model.parameters(), 0.1)\n",
    "        optimizer.step()\n",
    "        total_acc += (predicted_label.argmax(1) == label).sum().item()\n",
    "        total_count += label.size(0)\n",
    "        if idx % log_interval == 0 and idx > 0:\n",
    "            elapsed = time.time() - start_time\n",
    "            print('| epoch {:3d} | {:5d}/{:5d} batches '\n",
    "                  '| accuracy {:8.3f}'.format(epoch, idx, len(dataloader),\n",
    "                                              total_acc/total_count))\n",
    "            total_acc, total_count = 0, 0\n",
    "            start_time = time.time()\n",
    "\n",
    "def evaluate(dataloader):\n",
    "    model.eval()\n",
    "    total_acc, total_count = 0, 0\n",
    "\n",
    "    with torch.no_grad():\n",
    "        for idx, (label, text, offsets) in enumerate(dataloader):\n",
    "            predicted_label = model(text, offsets)\n",
    "            loss = criterion(predicted_label, label)\n",
    "            total_acc += (predicted_label.argmax(1) == label).sum().item()\n",
    "            total_count += label.size(0)\n",
    "    return total_acc/total_count"
   ]
  },
  {
   "cell_type": "markdown",
   "metadata": {},
   "source": [
    "### 모델 훈련"
   ]
  },
  {
   "cell_type": "code",
   "execution_count": 35,
   "metadata": {},
   "outputs": [
    {
     "name": "stdout",
     "output_type": "stream",
     "text": [
      "start training.\n",
      "| epoch   1 |   500/  547 batches | accuracy    0.734\n",
      "-----------------------------------------------------------\n",
      "| end of epoch   1 | time: 20.45s | valid accuracy    0.804 \n",
      "-----------------------------------------------------------\n",
      "| epoch   2 |   500/  547 batches | accuracy    0.805\n",
      "-----------------------------------------------------------\n",
      "| end of epoch   2 | time: 19.63s | valid accuracy    0.806 \n",
      "-----------------------------------------------------------\n",
      "| epoch   3 |   500/  547 batches | accuracy    0.829\n",
      "-----------------------------------------------------------\n",
      "| end of epoch   3 | time: 18.60s | valid accuracy    0.828 \n",
      "-----------------------------------------------------------\n",
      "| epoch   4 |   500/  547 batches | accuracy    0.842\n",
      "-----------------------------------------------------------\n",
      "| end of epoch   4 | time: 19.11s | valid accuracy    0.864 \n",
      "-----------------------------------------------------------\n",
      "| epoch   5 |   500/  547 batches | accuracy    0.853\n",
      "-----------------------------------------------------------\n",
      "| end of epoch   5 | time: 20.59s | valid accuracy    0.848 \n",
      "-----------------------------------------------------------\n",
      "| epoch   6 |   500/  547 batches | accuracy    0.886\n",
      "-----------------------------------------------------------\n",
      "| end of epoch   6 | time: 19.94s | valid accuracy    0.879 \n",
      "-----------------------------------------------------------\n",
      "| epoch   7 |   500/  547 batches | accuracy    0.888\n",
      "-----------------------------------------------------------\n",
      "| end of epoch   7 | time: 19.51s | valid accuracy    0.878 \n",
      "-----------------------------------------------------------\n",
      "| epoch   8 |   500/  547 batches | accuracy    0.890\n",
      "-----------------------------------------------------------\n",
      "| end of epoch   8 | time: 19.40s | valid accuracy    0.879 \n",
      "-----------------------------------------------------------\n",
      "| epoch   9 |   500/  547 batches | accuracy    0.891\n",
      "-----------------------------------------------------------\n",
      "| end of epoch   9 | time: 20.16s | valid accuracy    0.879 \n",
      "-----------------------------------------------------------\n",
      "| epoch  10 |   500/  547 batches | accuracy    0.891\n",
      "-----------------------------------------------------------\n",
      "| end of epoch  10 | time: 19.57s | valid accuracy    0.879 \n",
      "-----------------------------------------------------------\n",
      "training finished.\n"
     ]
    }
   ],
   "source": [
    "# Hyperparameters\n",
    "EPOCHS = 10 # epoch\n",
    "LR = 5  # learning rate\n",
    "BATCH_SIZE = 64 # batch size for training\n",
    "\n",
    "criterion = torch.nn.CrossEntropyLoss()\n",
    "optimizer = torch.optim.SGD(model.parameters(), lr=LR)\n",
    "scheduler = torch.optim.lr_scheduler.StepLR(optimizer, 1.0, gamma=0.1)\n",
    "total_accu = None\n",
    "\n",
    "print(\"start training.\")\n",
    "for epoch in range(1, EPOCHS + 1):\n",
    "    epoch_start_time = time.time()\n",
    "    train(train_dataloader)\n",
    "    accu_val = evaluate(valid_dataloader)\n",
    "    if total_accu is not None and total_accu > accu_val:\n",
    "        scheduler.step()\n",
    "    else:\n",
    "        total_accu = accu_val\n",
    "    print('-' * 59)\n",
    "    print('| end of epoch {:3d} | time: {:5.2f}s | '\n",
    "          'valid accuracy {:8.3f} '.format(epoch, time.time() - epoch_start_time, accu_val))\n",
    "    print('-' * 59)\n",
    "\n",
    "print(\"training finished.\")"
   ]
  },
  {
   "cell_type": "code",
   "execution_count": 36,
   "metadata": {},
   "outputs": [],
   "source": [
    "some_data = next(iter(get_data()))"
   ]
  },
  {
   "cell_type": "code",
   "execution_count": 49,
   "metadata": {},
   "outputs": [
    {
     "name": "stdout",
     "output_type": "stream",
     "text": [
      "tensor([[ 0.1489, -0.1999]])\n"
     ]
    }
   ],
   "source": [
    "some_x = text_pipeline(some_data[1])\n",
    "some_x = torch.tensor(some_x, dtype=torch.int64)\n",
    "model.eval()\n",
    "\n",
    "with torch.no_grad():\n",
    "    result = model(some_x, torch.zeros(size=(1, ), dtype=torch.int64))\n",
    "    print(result)"
   ]
  },
  {
   "cell_type": "code",
   "execution_count": null,
   "metadata": {},
   "outputs": [],
   "source": []
  }
 ],
 "metadata": {
  "kernelspec": {
   "display_name": "Python 3",
   "language": "python",
   "name": "python3"
  },
  "language_info": {
   "codemirror_mode": {
    "name": "ipython",
    "version": 3
   },
   "file_extension": ".py",
   "mimetype": "text/x-python",
   "name": "python",
   "nbconvert_exporter": "python",
   "pygments_lexer": "ipython3",
   "version": "3.11.2"
  },
  "orig_nbformat": 4
 },
 "nbformat": 4,
 "nbformat_minor": 2
}
